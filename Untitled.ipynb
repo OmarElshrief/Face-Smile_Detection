{
 "cells": [
  {
   "cell_type": "code",
   "execution_count": 1,
   "id": "60e431ee-960e-45cf-83f1-714705daaf88",
   "metadata": {},
   "outputs": [],
   "source": [
    "import cv2 \n",
    "import time\n",
    "import ctypes \n",
    "\n",
    "faceCascade=cv2.CascadeClassifier(\"face.xml\")\n",
    "smileCascade=cv2.CascadeClassifier(\"smile.xml\")\n"
   ]
  },
  {
   "cell_type": "code",
   "execution_count": 2,
   "id": "910d03c2-0811-41c9-b4f4-c3fea22c006e",
   "metadata": {},
   "outputs": [],
   "source": [
    "video=cv2.VideoCapture(0)"
   ]
  },
  {
   "cell_type": "code",
   "execution_count": null,
   "id": "300454f5-3ef9-46b4-a673-4aa294e17aef",
   "metadata": {},
   "outputs": [],
   "source": [
    "while True:\n",
    "    shutC= True\n",
    "    check , frame=video.read()\n",
    "    gray = cv2.cvtColor(frame,cv2.COLOR_BGR2GRAY)\n",
    "    face=faceCascade.detectMultiScale(gray,scaleFactor=1.1,minNeighbors=30)\n",
    "    \n",
    "    for x,y,x2,y2 in face:\n",
    "        img=cv2.rectangle(frame,(x,y),(x+x2,y+y2),(0,0,255),3)\n",
    "        smile=smileCascade.detectMultiScale(gray,scaleFactor=1.8,minNeighbors=40)\n",
    "        shutC = False\n",
    "        \n",
    "        for x,y,x2,y2 in smile:\n",
    "            img=cv2.rectangle(frame,(x,y),(x+x2,y+y2),(255,0,0),3)\n",
    "\n",
    "    cv2.imshow('Face detection..',frame)\n",
    "    \n",
    "    if(shutC) : \n",
    "        time.sleep(2)\n",
    "        ctypes.windll.user32.LockWorkStation()\n",
    "        \n",
    "    keyEntered =cv2.waitKey(1)\n",
    "    if keyEntered == ord('e'):\n",
    "         break\n",
    "            \n",
    "video.release()\n",
    "cv2.destroyAllWindows        \n"
   ]
  },
  {
   "cell_type": "code",
   "execution_count": null,
   "id": "45ebdeb0-2857-4721-8b80-2b06bae5d381",
   "metadata": {},
   "outputs": [],
   "source": []
  }
 ],
 "metadata": {
  "kernelspec": {
   "display_name": "Python 3 (ipykernel)",
   "language": "python",
   "name": "python3"
  },
  "language_info": {
   "codemirror_mode": {
    "name": "ipython",
    "version": 3
   },
   "file_extension": ".py",
   "mimetype": "text/x-python",
   "name": "python",
   "nbconvert_exporter": "python",
   "pygments_lexer": "ipython3",
   "version": "3.9.7"
  }
 },
 "nbformat": 4,
 "nbformat_minor": 5
}
